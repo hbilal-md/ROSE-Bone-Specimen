{
 "cells": [
  {
   "cell_type": "code",
   "execution_count": 154,
   "metadata": {},
   "outputs": [],
   "source": [
    "import pandas as pd\n",
    "import re"
   ]
  },
  {
   "cell_type": "code",
   "execution_count": 158,
   "metadata": {},
   "outputs": [],
   "source": [
    "data_df = pd.read_csv('bst_preLabel.csv')"
   ]
  },
  {
   "cell_type": "code",
   "execution_count": 159,
   "metadata": {},
   "outputs": [],
   "source": [
    "data_df['adequacy_label'] = None\n",
    "data_df['tumor_type_label'] = None\n",
    "data_df['tumor_primary_label'] = None"
   ]
  },
  {
   "cell_type": "code",
   "execution_count": 171,
   "metadata": {},
   "outputs": [],
   "source": [
    "adequacy_labels = [\"adequacy_labels.csv\", \"AdequacyStatement\", \"adequacy_label\"]\n",
    "tumor_type_labels = [\"type_of_cancer.csv\", \"Type_of_Cancer\", \"tumor_type_label\"]\n",
    "origin_labels = [\"origin_of_cancer.csv\", \"Origin_of_Cancer\", \"tumor_primary_label\"]\n",
    "label_list = origin_labels"
   ]
  },
  {
   "cell_type": "code",
   "execution_count": 172,
   "metadata": {},
   "outputs": [],
   "source": [
    "labels_df = pd.read_csv(label_list[0])"
   ]
  },
  {
   "cell_type": "code",
   "execution_count": 173,
   "metadata": {},
   "outputs": [
    {
     "data": {
      "text/html": [
       "<div>\n",
       "<style scoped>\n",
       "    .dataframe tbody tr th:only-of-type {\n",
       "        vertical-align: middle;\n",
       "    }\n",
       "\n",
       "    .dataframe tbody tr th {\n",
       "        vertical-align: top;\n",
       "    }\n",
       "\n",
       "    .dataframe thead th {\n",
       "        text-align: right;\n",
       "    }\n",
       "</style>\n",
       "<table border=\"1\" class=\"dataframe\">\n",
       "  <thead>\n",
       "    <tr style=\"text-align: right;\">\n",
       "      <th></th>\n",
       "      <th>text</th>\n",
       "      <th>label</th>\n",
       "    </tr>\n",
       "  </thead>\n",
       "  <tbody>\n",
       "    <tr>\n",
       "      <th>0</th>\n",
       "      <td>Prostate</td>\n",
       "      <td>Prostate</td>\n",
       "    </tr>\n",
       "    <tr>\n",
       "      <th>1</th>\n",
       "      <td>Lung</td>\n",
       "      <td>Lung</td>\n",
       "    </tr>\n",
       "    <tr>\n",
       "      <th>2</th>\n",
       "      <td>No</td>\n",
       "      <td>Undetermined</td>\n",
       "    </tr>\n",
       "    <tr>\n",
       "      <th>3</th>\n",
       "      <td>Talus, right</td>\n",
       "      <td>Bone</td>\n",
       "    </tr>\n",
       "    <tr>\n",
       "      <th>4</th>\n",
       "      <td>Renal</td>\n",
       "      <td>Genitourinary</td>\n",
       "    </tr>\n",
       "    <tr>\n",
       "      <th>...</th>\n",
       "      <td>...</td>\n",
       "      <td>...</td>\n",
       "    </tr>\n",
       "    <tr>\n",
       "      <th>201</th>\n",
       "      <td>10th rib, right</td>\n",
       "      <td>Bone</td>\n",
       "    </tr>\n",
       "    <tr>\n",
       "      <th>202</th>\n",
       "      <td>Ischium bone</td>\n",
       "      <td>Bone</td>\n",
       "    </tr>\n",
       "    <tr>\n",
       "      <th>203</th>\n",
       "      <td>Acetabulum</td>\n",
       "      <td>Bone</td>\n",
       "    </tr>\n",
       "    <tr>\n",
       "      <th>204</th>\n",
       "      <td>Acetabulum (bone) left</td>\n",
       "      <td>Bone</td>\n",
       "    </tr>\n",
       "    <tr>\n",
       "      <th>205</th>\n",
       "      <td>Bone marrow (left anterior iliac crest and fem...</td>\n",
       "      <td>Bone</td>\n",
       "    </tr>\n",
       "  </tbody>\n",
       "</table>\n",
       "<p>206 rows × 2 columns</p>\n",
       "</div>"
      ],
      "text/plain": [
       "                                                  text          label\n",
       "0                                             Prostate       Prostate\n",
       "1                                                 Lung           Lung\n",
       "2                                                   No   Undetermined\n",
       "3                                         Talus, right           Bone\n",
       "4                                                Renal  Genitourinary\n",
       "..                                                 ...            ...\n",
       "201                                    10th rib, right           Bone\n",
       "202                                       Ischium bone           Bone\n",
       "203                                         Acetabulum           Bone\n",
       "204                             Acetabulum (bone) left           Bone\n",
       "205  Bone marrow (left anterior iliac crest and fem...           Bone\n",
       "\n",
       "[206 rows x 2 columns]"
      ]
     },
     "execution_count": 173,
     "metadata": {},
     "output_type": "execute_result"
    }
   ],
   "source": [
    "labels_df['text'] = labels_df['text'].astype(str)\n",
    "labels_df"
   ]
  },
  {
   "cell_type": "code",
   "execution_count": 174,
   "metadata": {},
   "outputs": [],
   "source": [
    "column_to_search = label_list[1]\n",
    "label_column = label_list[2]\n",
    "data_df[column_to_search] = data_df[column_to_search].astype(str)"
   ]
  },
  {
   "cell_type": "code",
   "execution_count": 175,
   "metadata": {},
   "outputs": [],
   "source": [
    "for idx, row in data_df.iterrows():\n",
    "    for _, dict_row in labels_df.iterrows():\n",
    "        if re.search(re.escape(dict_row['text']), row[column_to_search]):\n",
    "            data_df.at[idx, label_column] = dict_row['label']\n",
    "            break "
   ]
  },
  {
   "cell_type": "code",
   "execution_count": null,
   "metadata": {},
   "outputs": [],
   "source": [
    "data_df"
   ]
  },
  {
   "cell_type": "code",
   "execution_count": 177,
   "metadata": {},
   "outputs": [
    {
     "data": {
      "text/plain": [
       "Breast              553\n",
       "Prostate            446\n",
       "Undetermined        225\n",
       "Lung                201\n",
       "Bone                143\n",
       "Genitourinary        72\n",
       "Gastrointestinal     43\n",
       "Thyroid              41\n",
       "Other                24\n",
       "Salivary Gland        9\n",
       "Endometrial           5\n",
       "Name: tumor_primary_label, dtype: int64"
      ]
     },
     "execution_count": 177,
     "metadata": {},
     "output_type": "execute_result"
    }
   ],
   "source": [
    "data_df[label_column].value_counts()"
   ]
  },
  {
   "cell_type": "code",
   "execution_count": null,
   "metadata": {},
   "outputs": [],
   "source": [
    "data_df.to_csv('bst_labeled.csv', index=False)"
   ]
  }
 ],
 "metadata": {
  "kernelspec": {
   "display_name": "base",
   "language": "python",
   "name": "python3"
  },
  "language_info": {
   "codemirror_mode": {
    "name": "ipython",
    "version": 3
   },
   "file_extension": ".py",
   "mimetype": "text/x-python",
   "name": "python",
   "nbconvert_exporter": "python",
   "pygments_lexer": "ipython3",
   "version": "3.1.undefined"
  },
  "orig_nbformat": 4
 },
 "nbformat": 4,
 "nbformat_minor": 2
}
