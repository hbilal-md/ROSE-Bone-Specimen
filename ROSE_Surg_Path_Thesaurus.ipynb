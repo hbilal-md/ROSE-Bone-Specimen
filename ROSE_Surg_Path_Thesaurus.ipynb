{
 "cells": [
  {
   "cell_type": "code",
   "execution_count": 54,
   "metadata": {},
   "outputs": [],
   "source": [
    "import pandas as pd\n",
    "from collections import Counter\n",
    "from nltk.util import ngrams\n",
    "import re\n",
    "import string"
   ]
  },
  {
   "cell_type": "code",
   "execution_count": 59,
   "metadata": {},
   "outputs": [],
   "source": [
    "def clean_text(text):\n",
    "    text = str(text).strip() \n",
    "    text = text.replace(\"\\n\", \" \") \n",
    "    text = text.strip('\"')  \n",
    "    text = re.sub(r'[^\\x00-\\x7F]+', ' ', text)  \n",
    "    text = re.sub(' +', ' ', text)  \n",
    "    return text.lower() \n",
    "\n",
    "def tokenize_text(text, n=6):\n",
    "    after_first_colon = text.split(\":\", 1)[-1] \n",
    "    translator = str.maketrans(string.punctuation, ' '*len(string.punctuation))  # map punctuation to space\n",
    "    after_first_colon = after_first_colon.translate(translator) \n",
    "    words = after_first_colon.split()\n",
    "    return [tuple(words[i:i+n]) for i in range(len(words)-n+1)]\n",
    "\n",
    "def count_frequencies(token_list):\n",
    "    return Counter(token_list)"
   ]
  },
  {
   "cell_type": "code",
   "execution_count": 60,
   "metadata": {},
   "outputs": [],
   "source": [
    "df = pd.read_csv('enriched_BST_data_v2.csv')"
   ]
  },
  {
   "cell_type": "code",
   "execution_count": 64,
   "metadata": {},
   "outputs": [],
   "source": [
    "df['cyto_report'] = df['text_data'].apply(clean_text)\n",
    "df['concurrent_report'] = df['concurrent_report'].apply(clean_text)"
   ]
  },
  {
   "cell_type": "code",
   "execution_count": 65,
   "metadata": {},
   "outputs": [],
   "source": [
    "df.to_csv('enriched_BST_data_v2.csv', index=False)"
   ]
  },
  {
   "cell_type": "code",
   "execution_count": 35,
   "metadata": {},
   "outputs": [],
   "source": [
    "n = 6\n",
    "df['tokens'] = df['clean_conc_report'].apply(lambda x: tokenize_text(x, n))"
   ]
  },
  {
   "cell_type": "code",
   "execution_count": 36,
   "metadata": {},
   "outputs": [],
   "source": [
    "all_tokens = [token for sublist in df['tokens'].tolist() for token in sublist]\n",
    "token_frequencies = count_frequencies(all_tokens)"
   ]
  },
  {
   "cell_type": "code",
   "execution_count": 37,
   "metadata": {},
   "outputs": [],
   "source": [
    "sorted_token_frequencies = sorted(token_frequencies.items(), key=lambda x: x[1], reverse=True)"
   ]
  },
  {
   "cell_type": "code",
   "execution_count": 38,
   "metadata": {},
   "outputs": [],
   "source": [
    "df_tokens = pd.DataFrame(sorted_token_frequencies, columns=['Token', 'Frequency'])\n",
    "df_tokens.to_csv('token_freq.csv', index=False)"
   ]
  }
 ],
 "metadata": {
  "kernelspec": {
   "display_name": "base",
   "language": "python",
   "name": "python3"
  },
  "language_info": {
   "codemirror_mode": {
    "name": "ipython",
    "version": 3
   },
   "file_extension": ".py",
   "mimetype": "text/x-python",
   "name": "python",
   "nbconvert_exporter": "python",
   "pygments_lexer": "ipython3",
   "version": "3.11.4"
  },
  "orig_nbformat": 4
 },
 "nbformat": 4,
 "nbformat_minor": 2
}
